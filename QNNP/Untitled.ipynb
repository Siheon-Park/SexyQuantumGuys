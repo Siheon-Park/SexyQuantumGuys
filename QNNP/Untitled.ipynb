{
 "cells": [
  {
   "cell_type": "code",
   "execution_count": 145,
   "id": "38fee0fe",
   "metadata": {},
   "outputs": [],
   "source": [
    "t=torch.tensor([[1.9049e+04+0.j],\n",
    "        [1.2365e+04+0.j],\n",
    "        [1.2546e+01+0.j]])"
   ]
  },
  {
   "cell_type": "code",
   "execution_count": 158,
   "id": "83141cfd",
   "metadata": {},
   "outputs": [],
   "source": [
    "def fun():\n",
    "    return 1"
   ]
  },
  {
   "cell_type": "code",
   "execution_count": 169,
   "id": "1fd732b2",
   "metadata": {},
   "outputs": [],
   "source": [
    "a= torch.tensor([0.3377])"
   ]
  },
  {
   "cell_type": "code",
   "execution_count": 172,
   "id": "b4c49b17",
   "metadata": {},
   "outputs": [
    {
     "data": {
      "text/plain": [
       "0.3377000093460083"
      ]
     },
     "execution_count": 172,
     "metadata": {},
     "output_type": "execute_result"
    }
   ],
   "source": [
    "a[0].item()"
   ]
  },
  {
   "cell_type": "code",
   "execution_count": 173,
   "id": "f04f31d3",
   "metadata": {},
   "outputs": [],
   "source": [
    "t2 = torch.tensor([[1,2],[3,4],[5,6]])"
   ]
  },
  {
   "cell_type": "code",
   "execution_count": 174,
   "id": "296c3812",
   "metadata": {},
   "outputs": [
    {
     "data": {
      "text/plain": [
       "tensor(4)"
      ]
     },
     "execution_count": 174,
     "metadata": {},
     "output_type": "execute_result"
    }
   ],
   "source": [
    "t2[1,1]"
   ]
  },
  {
   "cell_type": "code",
   "execution_count": 115,
   "id": "d7f0b88a",
   "metadata": {},
   "outputs": [],
   "source": [
    "H =7892.680830835166 * I^I^I+16949.519248246484 * X^I^I"
   ]
  },
  {
   "cell_type": "code",
   "execution_count": 153,
   "id": "60e05b30",
   "metadata": {},
   "outputs": [],
   "source": [
    "coeff = np.array([1,2,3])"
   ]
  },
  {
   "cell_type": "code",
   "execution_count": 154,
   "id": "62601eda",
   "metadata": {},
   "outputs": [],
   "source": [
    "coeff2 = np.array([4,5,6])"
   ]
  },
  {
   "cell_type": "code",
   "execution_count": 155,
   "id": "90f64d97",
   "metadata": {},
   "outputs": [
    {
     "data": {
      "text/plain": [
       "array([ 4, 10, 18])"
      ]
     },
     "execution_count": 155,
     "metadata": {},
     "output_type": "execute_result"
    }
   ],
   "source": [
    "coeff*coeff2"
   ]
  },
  {
   "cell_type": "code",
   "execution_count": 119,
   "id": "06975116",
   "metadata": {},
   "outputs": [
    {
     "data": {
      "text/plain": [
       "tensor([0.1881, 0.2749, 0.9560, 0.7990, 0.1730, 0.1286, 0.4245, 0.5080, 0.2555,\n",
       "        0.1952, 0.9521, 0.3229, 0.8766, 0.0683, 0.3046, 0.5420, 0.8945, 0.6117,\n",
       "        0.9852, 0.2632], dtype=torch.float64, requires_grad=True)"
      ]
     },
     "execution_count": 119,
     "metadata": {},
     "output_type": "execute_result"
    }
   ],
   "source": [
    "torch.tensor(list(np.random.random(n_qubit*4)), requires_grad = True)"
   ]
  },
  {
   "cell_type": "code",
   "execution_count": 125,
   "id": "8bbdac75",
   "metadata": {},
   "outputs": [
    {
     "data": {
      "text/plain": [
       "tensor([0.3961, 0.0817], requires_grad=True)"
      ]
     },
     "execution_count": 125,
     "metadata": {},
     "output_type": "execute_result"
    }
   ],
   "source": [
    "torch.rand(2, requires_grad=True)"
   ]
  },
  {
   "cell_type": "code",
   "execution_count": 109,
   "id": "2eb4eb97",
   "metadata": {},
   "outputs": [],
   "source": [
    "psi = QuantumCircuit(n_qubit)\n",
    "for i in range(n_qubit):\n",
    "    psi.rz(-0.23,i)\n",
    "    psi.ry(0.3,i)\n",
    "    psi.rz(0.2,i)"
   ]
  },
  {
   "cell_type": "code",
   "execution_count": 118,
   "id": "ad8e6225",
   "metadata": {},
   "outputs": [
    {
     "ename": "TypeError",
     "evalue": "ListOp expecting objects of type OperatorBase, got      ┌───────────┐┌─────────┐┌─────────┐\nq_0: ┤ Rz(-0.23) ├┤ Ry(0.3) ├┤ Rz(0.2) ├\n     ├───────────┤├─────────┤├─────────┤\nq_1: ┤ Rz(-0.23) ├┤ Ry(0.3) ├┤ Rz(0.2) ├\n     ├───────────┤├─────────┤├─────────┤\nq_2: ┤ Rz(-0.23) ├┤ Ry(0.3) ├┤ Rz(0.2) ├\n     ├───────────┤├─────────┤├─────────┤\nq_3: ┤ Rz(-0.23) ├┤ Ry(0.3) ├┤ Rz(0.2) ├\n     ├───────────┤├─────────┤├─────────┤\nq_4: ┤ Rz(-0.23) ├┤ Ry(0.3) ├┤ Rz(0.2) ├\n     └───────────┘└─────────┘└─────────┘",
     "output_type": "error",
     "traceback": [
      "\u001b[0;31m---------------------------------------------------------------------------\u001b[0m",
      "\u001b[0;31mTypeError\u001b[0m                                 Traceback (most recent call last)",
      "Input \u001b[0;32mIn [118]\u001b[0m, in \u001b[0;36m<module>\u001b[0;34m\u001b[0m\n\u001b[0;32m----> 1\u001b[0m \u001b[43mCircuitStateFn\u001b[49m\u001b[43m(\u001b[49m\u001b[43mpsi\u001b[49m\u001b[43m)\u001b[49m\u001b[38;5;241;43m.\u001b[39;49m\u001b[43madjoint\u001b[49m\u001b[43m(\u001b[49m\u001b[43m)\u001b[49m\u001b[38;5;241;43m.\u001b[39;49m\u001b[43mcompose\u001b[49m\u001b[43m(\u001b[49m\u001b[43mH\u001b[49m\u001b[43m)\u001b[49m\u001b[38;5;241;43m.\u001b[39;49m\u001b[43mcompose\u001b[49m\u001b[43m(\u001b[49m\u001b[43mpsi\u001b[49m\u001b[43m)\u001b[49m\n",
      "File \u001b[0;32m~/opt/anaconda3/envs/pymetal23/lib/python3.9/site-packages/qiskit/opflow/list_ops/composed_op.py:110\u001b[0m, in \u001b[0;36mComposedOp.compose\u001b[0;34m(self, other, permutation, front)\u001b[0m\n\u001b[1;32m    104\u001b[0m \u001b[38;5;66;03m# Try composing with last element of oplist. We only try\u001b[39;00m\n\u001b[1;32m    105\u001b[0m \u001b[38;5;66;03m# this if that last element isn't itself an\u001b[39;00m\n\u001b[1;32m    106\u001b[0m \u001b[38;5;66;03m# ComposedOp, so we can tell whether composing the\u001b[39;00m\n\u001b[1;32m    107\u001b[0m \u001b[38;5;66;03m# two elements directly worked. If it doesn't,\u001b[39;00m\n\u001b[1;32m    108\u001b[0m \u001b[38;5;66;03m# continue to the final return statement below, appending other to the oplist.\u001b[39;00m\n\u001b[1;32m    109\u001b[0m \u001b[38;5;28;01mif\u001b[39;00m \u001b[38;5;129;01mnot\u001b[39;00m \u001b[38;5;28misinstance\u001b[39m(new_self\u001b[38;5;241m.\u001b[39moplist[\u001b[38;5;241m-\u001b[39m\u001b[38;5;241m1\u001b[39m], ComposedOp):\n\u001b[0;32m--> 110\u001b[0m     comp_with_last \u001b[38;5;241m=\u001b[39m \u001b[43mnew_self\u001b[49m\u001b[38;5;241;43m.\u001b[39;49m\u001b[43moplist\u001b[49m\u001b[43m[\u001b[49m\u001b[38;5;241;43m-\u001b[39;49m\u001b[38;5;241;43m1\u001b[39;49m\u001b[43m]\u001b[49m\u001b[38;5;241;43m.\u001b[39;49m\u001b[43mcompose\u001b[49m\u001b[43m(\u001b[49m\u001b[43mother\u001b[49m\u001b[43m)\u001b[49m\n\u001b[1;32m    111\u001b[0m     \u001b[38;5;66;03m# Attempt successful\u001b[39;00m\n\u001b[1;32m    112\u001b[0m     \u001b[38;5;28;01mif\u001b[39;00m \u001b[38;5;129;01mnot\u001b[39;00m \u001b[38;5;28misinstance\u001b[39m(comp_with_last, ComposedOp):\n",
      "File \u001b[0;32m~/opt/anaconda3/envs/pymetal23/lib/python3.9/site-packages/qiskit/opflow/primitive_ops/pauli_sum_op.py:258\u001b[0m, in \u001b[0;36mPauliSumOp.compose\u001b[0;34m(self, other, permutation, front)\u001b[0m\n\u001b[1;32m    255\u001b[0m     pauli_op \u001b[38;5;241m=\u001b[39m cast(Union[PauliOp, SummedOp], new_self\u001b[38;5;241m.\u001b[39mto_pauli_op())\n\u001b[1;32m    256\u001b[0m     \u001b[38;5;28;01mreturn\u001b[39;00m pauli_op\u001b[38;5;241m.\u001b[39mto_circuit_op()\u001b[38;5;241m.\u001b[39mcompose(other)\n\u001b[0;32m--> 258\u001b[0m \u001b[38;5;28;01mreturn\u001b[39;00m \u001b[38;5;28;43msuper\u001b[39;49m\u001b[43m(\u001b[49m\u001b[43mPauliSumOp\u001b[49m\u001b[43m,\u001b[49m\u001b[43m \u001b[49m\u001b[43mnew_self\u001b[49m\u001b[43m)\u001b[49m\u001b[38;5;241;43m.\u001b[39;49m\u001b[43mcompose\u001b[49m\u001b[43m(\u001b[49m\u001b[43mother\u001b[49m\u001b[43m)\u001b[49m\n",
      "File \u001b[0;32m~/opt/anaconda3/envs/pymetal23/lib/python3.9/site-packages/qiskit/opflow/primitive_ops/primitive_op.py:186\u001b[0m, in \u001b[0;36mPrimitiveOp.compose\u001b[0;34m(self, other, permutation, front)\u001b[0m\n\u001b[1;32m    183\u001b[0m         \u001b[38;5;28;01mreturn\u001b[39;00m ComposedOp(new_oplist, coeff\u001b[38;5;241m=\u001b[39mother\u001b[38;5;241m.\u001b[39mcoeff)\n\u001b[1;32m    184\u001b[0m     \u001b[38;5;28;01mreturn\u001b[39;00m ComposedOp([new_self] \u001b[38;5;241m+\u001b[39m other\u001b[38;5;241m.\u001b[39moplist, coeff\u001b[38;5;241m=\u001b[39mother\u001b[38;5;241m.\u001b[39mcoeff)\n\u001b[0;32m--> 186\u001b[0m \u001b[38;5;28;01mreturn\u001b[39;00m \u001b[43mComposedOp\u001b[49m\u001b[43m(\u001b[49m\u001b[43m[\u001b[49m\u001b[43mnew_self\u001b[49m\u001b[43m,\u001b[49m\u001b[43m \u001b[49m\u001b[43mother\u001b[49m\u001b[43m]\u001b[49m\u001b[43m)\u001b[49m\n",
      "File \u001b[0;32m~/opt/anaconda3/envs/pymetal23/lib/python3.9/site-packages/qiskit/opflow/list_ops/composed_op.py:47\u001b[0m, in \u001b[0;36mComposedOp.__init__\u001b[0;34m(self, oplist, coeff, abelian)\u001b[0m\n\u001b[1;32m     35\u001b[0m \u001b[38;5;28;01mdef\u001b[39;00m \u001b[38;5;21m__init__\u001b[39m(\n\u001b[1;32m     36\u001b[0m     \u001b[38;5;28mself\u001b[39m,\n\u001b[1;32m     37\u001b[0m     oplist: List[OperatorBase],\n\u001b[1;32m     38\u001b[0m     coeff: Union[\u001b[38;5;28mcomplex\u001b[39m, ParameterExpression] \u001b[38;5;241m=\u001b[39m \u001b[38;5;241m1.0\u001b[39m,\n\u001b[1;32m     39\u001b[0m     abelian: \u001b[38;5;28mbool\u001b[39m \u001b[38;5;241m=\u001b[39m \u001b[38;5;28;01mFalse\u001b[39;00m,\n\u001b[1;32m     40\u001b[0m ) \u001b[38;5;241m-\u001b[39m\u001b[38;5;241m>\u001b[39m \u001b[38;5;28;01mNone\u001b[39;00m:\n\u001b[1;32m     41\u001b[0m     \u001b[38;5;124;03m\"\"\"\u001b[39;00m\n\u001b[1;32m     42\u001b[0m \u001b[38;5;124;03m    Args:\u001b[39;00m\n\u001b[1;32m     43\u001b[0m \u001b[38;5;124;03m        oplist: The Operators being composed.\u001b[39;00m\n\u001b[1;32m     44\u001b[0m \u001b[38;5;124;03m        coeff: A coefficient multiplying the operator\u001b[39;00m\n\u001b[1;32m     45\u001b[0m \u001b[38;5;124;03m        abelian: Indicates whether the Operators in ``oplist`` are known to mutually commute.\u001b[39;00m\n\u001b[1;32m     46\u001b[0m \u001b[38;5;124;03m    \"\"\"\u001b[39;00m\n\u001b[0;32m---> 47\u001b[0m     \u001b[38;5;28;43msuper\u001b[39;49m\u001b[43m(\u001b[49m\u001b[43m)\u001b[49m\u001b[38;5;241;43m.\u001b[39;49m\u001b[38;5;21;43m__init__\u001b[39;49m\u001b[43m(\u001b[49m\u001b[43moplist\u001b[49m\u001b[43m,\u001b[49m\u001b[43m \u001b[49m\u001b[43mcombo_fn\u001b[49m\u001b[38;5;241;43m=\u001b[39;49m\u001b[43mpartial\u001b[49m\u001b[43m(\u001b[49m\u001b[43mreduce\u001b[49m\u001b[43m,\u001b[49m\u001b[43m \u001b[49m\u001b[43mnp\u001b[49m\u001b[38;5;241;43m.\u001b[39;49m\u001b[43mdot\u001b[49m\u001b[43m)\u001b[49m\u001b[43m,\u001b[49m\u001b[43m \u001b[49m\u001b[43mcoeff\u001b[49m\u001b[38;5;241;43m=\u001b[39;49m\u001b[43mcoeff\u001b[49m\u001b[43m,\u001b[49m\u001b[43m \u001b[49m\u001b[43mabelian\u001b[49m\u001b[38;5;241;43m=\u001b[39;49m\u001b[43mabelian\u001b[49m\u001b[43m)\u001b[49m\n",
      "File \u001b[0;32m~/opt/anaconda3/envs/pymetal23/lib/python3.9/site-packages/qiskit/opflow/list_ops/list_op.py:77\u001b[0m, in \u001b[0;36mListOp.__init__\u001b[0;34m(self, oplist, combo_fn, coeff, abelian, grad_combo_fn)\u001b[0m\n\u001b[1;32m     64\u001b[0m \u001b[38;5;124;03m\"\"\"\u001b[39;00m\n\u001b[1;32m     65\u001b[0m \u001b[38;5;124;03mArgs:\u001b[39;00m\n\u001b[1;32m     66\u001b[0m \u001b[38;5;124;03m    oplist: The list of ``OperatorBases`` defining this Operator's underlying function.\u001b[39;00m\n\u001b[0;32m   (...)\u001b[0m\n\u001b[1;32m     74\u001b[0m \u001b[38;5;124;03m    identity - it accepts the list of values, and returns them in a list.\u001b[39;00m\n\u001b[1;32m     75\u001b[0m \u001b[38;5;124;03m\"\"\"\u001b[39;00m\n\u001b[1;32m     76\u001b[0m \u001b[38;5;28msuper\u001b[39m()\u001b[38;5;241m.\u001b[39m\u001b[38;5;21m__init__\u001b[39m()\n\u001b[0;32m---> 77\u001b[0m \u001b[38;5;28mself\u001b[39m\u001b[38;5;241m.\u001b[39m_oplist \u001b[38;5;241m=\u001b[39m \u001b[38;5;28;43mself\u001b[39;49m\u001b[38;5;241;43m.\u001b[39;49m\u001b[43m_check_input_types\u001b[49m\u001b[43m(\u001b[49m\u001b[43moplist\u001b[49m\u001b[43m)\u001b[49m\n\u001b[1;32m     78\u001b[0m \u001b[38;5;28mself\u001b[39m\u001b[38;5;241m.\u001b[39m_combo_fn \u001b[38;5;241m=\u001b[39m combo_fn\n\u001b[1;32m     79\u001b[0m \u001b[38;5;28mself\u001b[39m\u001b[38;5;241m.\u001b[39m_coeff \u001b[38;5;241m=\u001b[39m coeff\n",
      "File \u001b[0;32m~/opt/anaconda3/envs/pymetal23/lib/python3.9/site-packages/qiskit/opflow/list_ops/list_op.py:88\u001b[0m, in \u001b[0;36mListOp._check_input_types\u001b[0;34m(self, oplist)\u001b[0m\n\u001b[1;32m     86\u001b[0m \u001b[38;5;28;01melse\u001b[39;00m:\n\u001b[1;32m     87\u001b[0m     badval \u001b[38;5;241m=\u001b[39m \u001b[38;5;28mnext\u001b[39m(x \u001b[38;5;28;01mfor\u001b[39;00m x \u001b[38;5;129;01min\u001b[39;00m oplist \u001b[38;5;28;01mif\u001b[39;00m \u001b[38;5;129;01mnot\u001b[39;00m \u001b[38;5;28misinstance\u001b[39m(x, OperatorBase))\n\u001b[0;32m---> 88\u001b[0m     \u001b[38;5;28;01mraise\u001b[39;00m \u001b[38;5;167;01mTypeError\u001b[39;00m(\u001b[38;5;124mf\u001b[39m\u001b[38;5;124m\"\u001b[39m\u001b[38;5;124mListOp expecting objects of type OperatorBase, got \u001b[39m\u001b[38;5;132;01m{\u001b[39;00mbadval\u001b[38;5;132;01m}\u001b[39;00m\u001b[38;5;124m\"\u001b[39m)\n",
      "\u001b[0;31mTypeError\u001b[0m: ListOp expecting objects of type OperatorBase, got      ┌───────────┐┌─────────┐┌─────────┐\nq_0: ┤ Rz(-0.23) ├┤ Ry(0.3) ├┤ Rz(0.2) ├\n     ├───────────┤├─────────┤├─────────┤\nq_1: ┤ Rz(-0.23) ├┤ Ry(0.3) ├┤ Rz(0.2) ├\n     ├───────────┤├─────────┤├─────────┤\nq_2: ┤ Rz(-0.23) ├┤ Ry(0.3) ├┤ Rz(0.2) ├\n     ├───────────┤├─────────┤├─────────┤\nq_3: ┤ Rz(-0.23) ├┤ Ry(0.3) ├┤ Rz(0.2) ├\n     ├───────────┤├─────────┤├─────────┤\nq_4: ┤ Rz(-0.23) ├┤ Ry(0.3) ├┤ Rz(0.2) ├\n     └───────────┘└─────────┘└─────────┘"
     ]
    }
   ],
   "source": [
    "CircuitStateFn(psi).adjoint().compose(H).compose(psi)"
   ]
  },
  {
   "cell_type": "code",
   "execution_count": 117,
   "id": "a7626c3c",
   "metadata": {},
   "outputs": [
    {
     "data": {
      "text/plain": [
       "tensor([[1.9049e+04+0.j],\n",
       "        [1.2365e+04+0.j],\n",
       "        [1.2546e+01+0.j]])"
      ]
     },
     "execution_count": 117,
     "metadata": {},
     "output_type": "execute_result"
    }
   ],
   "source": [
    "t"
   ]
  },
  {
   "cell_type": "code",
   "execution_count": 91,
   "id": "d63f5a0f",
   "metadata": {},
   "outputs": [],
   "source": [
    "t=[[1.9049e+04+0.j],\n",
    "        [1.2365e+04+0.j],\n",
    "        [1.2546e+01+0.j]]"
   ]
  },
  {
   "cell_type": "code",
   "execution_count": 95,
   "id": "c80eeea1",
   "metadata": {},
   "outputs": [],
   "source": [
    "b= np.zeros((3,4))"
   ]
  },
  {
   "cell_type": "code",
   "execution_count": 96,
   "id": "3c61daa9",
   "metadata": {},
   "outputs": [
    {
     "data": {
      "text/plain": [
       "array([[1.90490000e+04+0.j, 1.90490000e+04+0.j, 1.90490000e+04+0.j,\n",
       "        1.90490000e+04+0.j],\n",
       "       [1.23650000e+04+0.j, 1.23650000e+04+0.j, 1.23650000e+04+0.j,\n",
       "        1.23650000e+04+0.j],\n",
       "       [1.25459995e+01+0.j, 1.25459995e+01+0.j, 1.25459995e+01+0.j,\n",
       "        1.25459995e+01+0.j]])"
      ]
     },
     "execution_count": 96,
     "metadata": {},
     "output_type": "execute_result"
    }
   ],
   "source": [
    "t+b"
   ]
  },
  {
   "cell_type": "code",
   "execution_count": 67,
   "id": "37ecb18f",
   "metadata": {},
   "outputs": [
    {
     "data": {
      "text/plain": [
       "(12,)"
      ]
     },
     "execution_count": 67,
     "metadata": {},
     "output_type": "execute_result"
    }
   ],
   "source": [
    "np.random.random(3*4).shape"
   ]
  },
  {
   "cell_type": "code",
   "execution_count": 3,
   "id": "4d86525c",
   "metadata": {},
   "outputs": [
    {
     "data": {
      "text/plain": [
       "3"
      ]
     },
     "execution_count": 3,
     "metadata": {},
     "output_type": "execute_result"
    }
   ],
   "source": [
    "para.shape[0]"
   ]
  },
  {
   "cell_type": "code",
   "execution_count": 14,
   "id": "e78b642c",
   "metadata": {},
   "outputs": [
    {
     "name": "stdout",
     "output_type": "stream",
     "text": [
      "1.0 * IZ\n",
      "+ 1.0 * XY\n"
     ]
    }
   ],
   "source": [
    "from qiskit.opflow import I,X,Y,Z\n",
    "\n",
    "a = (I^Z)+(X^Y)\n",
    "print(a)"
   ]
  },
  {
   "cell_type": "code",
   "execution_count": 42,
   "id": "6fc9bec6",
   "metadata": {},
   "outputs": [],
   "source": [
    "def obse_term(n_qubit, idx, typ):\n",
    "    op = I\n",
    "    if typ == 1:\n",
    "        op = X\n",
    "    elif typ == 2:\n",
    "        op = Y\n",
    "    elif typ == 3:\n",
    "        op = Z\n",
    "    ret = I\n",
    "    \n",
    "    for i in range(idx-1):\n",
    "        ret = ret^I\n",
    "    ret = ret^op\n",
    "    for i in range(n_qubit-idx):\n",
    "        ret = ret^I\n",
    "\n",
    "    return 0.1*ret"
   ]
  },
  {
   "cell_type": "code",
   "execution_count": 43,
   "id": "14c30f4c",
   "metadata": {},
   "outputs": [
    {
     "ename": "TypeError",
     "evalue": "ListOp expecting objects of type OperatorBase, got tensor([[-1.0632],\n        [-0.1325],\n        [-1.0873],\n        [-0.3375],\n        [-1.5933],\n        [ 0.1487],\n        [ 0.0802],\n        [ 0.3893],\n        [-1.4519],\n        [-0.1113],\n        [-1.3306],\n        [ 0.0452],\n        [ 1.1772],\n        [-0.9517],\n        [-0.4889],\n        [ 0.9313],\n        [-1.8404],\n        [-0.3494],\n        [-1.0349],\n        [ 0.8491],\n        [ 0.5632],\n        [ 0.1069],\n        [ 1.7319],\n        [-0.7073],\n        [-0.2570],\n        [ 0.2356],\n        [-1.1561],\n        [ 0.7830],\n        [-0.8123],\n        [ 3.9819],\n        [-0.3706],\n        [ 0.6667],\n        [-0.5061],\n        [-2.3843],\n        [-0.6492],\n        [ 0.8035],\n        [ 0.6760],\n        [ 1.0593],\n        [ 0.4644],\n        [-0.6050],\n        [-0.7893],\n        [ 0.9787],\n        [-0.2578],\n        [-0.0925],\n        [ 0.0576],\n        [-0.9215],\n        [-0.3690],\n        [-0.1237],\n        [-1.8863],\n        [ 1.9841],\n        [-0.3370],\n        [-0.2704],\n        [ 0.3447],\n        [-0.0251],\n        [-0.2060],\n        [ 0.8895],\n        [ 0.8894],\n        [-0.4283],\n        [-0.1905],\n        [ 0.6588],\n        [ 0.4020],\n        [ 0.2028],\n        [-0.2151],\n        [-0.0351],\n        [ 2.1895],\n        [ 0.3861],\n        [-1.3320],\n        [ 0.5717],\n        [ 2.1532],\n        [-1.0302],\n        [ 2.1732],\n        [ 0.9812],\n        [-1.3283],\n        [-0.2630],\n        [ 0.4189],\n        [-1.9842],\n        [ 1.1397],\n        [-0.4855],\n        [-1.0943],\n        [ 0.8781],\n        [ 0.2532],\n        [ 0.0102],\n        [ 1.3152],\n        [ 0.5950],\n        [-2.6090],\n        [ 1.9501],\n        [-0.6954],\n        [ 1.5803],\n        [-0.4227],\n        [-0.6619],\n        [ 1.1841],\n        [ 0.6000],\n        [-0.7969],\n        [-1.0811],\n        [-0.3907],\n        [ 0.8414],\n        [ 0.7746],\n        [ 1.0806],\n        [-2.7393],\n        [ 1.6660]])",
     "output_type": "error",
     "traceback": [
      "\u001b[0;31m---------------------------------------------------------------------------\u001b[0m",
      "\u001b[0;31mTypeError\u001b[0m                                 Traceback (most recent call last)",
      "Input \u001b[0;32mIn [43]\u001b[0m, in \u001b[0;36m<module>\u001b[0;34m\u001b[0m\n\u001b[0;32m----> 1\u001b[0m \u001b[43mobse_term\u001b[49m\u001b[43m(\u001b[49m\u001b[38;5;241;43m5\u001b[39;49m\u001b[43m,\u001b[49m\u001b[38;5;241;43m1\u001b[39;49m\u001b[43m,\u001b[49m\u001b[38;5;241;43m1\u001b[39;49m\u001b[43m)\u001b[49m\n",
      "Input \u001b[0;32mIn [42]\u001b[0m, in \u001b[0;36mobse_term\u001b[0;34m(n_qubit, idx, typ)\u001b[0m\n\u001b[1;32m     11\u001b[0m \u001b[38;5;28;01mfor\u001b[39;00m i \u001b[38;5;129;01min\u001b[39;00m \u001b[38;5;28mrange\u001b[39m(idx\u001b[38;5;241m-\u001b[39m\u001b[38;5;241m1\u001b[39m):\n\u001b[1;32m     12\u001b[0m     ret \u001b[38;5;241m=\u001b[39m ret\u001b[38;5;241m^\u001b[39mI\n\u001b[0;32m---> 13\u001b[0m ret \u001b[38;5;241m=\u001b[39m \u001b[43mret\u001b[49m\u001b[38;5;241;43m^\u001b[39;49m\u001b[43mop\u001b[49m\n\u001b[1;32m     14\u001b[0m \u001b[38;5;28;01mfor\u001b[39;00m i \u001b[38;5;129;01min\u001b[39;00m \u001b[38;5;28mrange\u001b[39m(n_qubit\u001b[38;5;241m-\u001b[39midx):\n\u001b[1;32m     15\u001b[0m     ret \u001b[38;5;241m=\u001b[39m ret\u001b[38;5;241m^\u001b[39mI\n",
      "File \u001b[0;32m~/opt/anaconda3/envs/pymetal23/lib/python3.9/site-packages/qiskit/opflow/mixins/tensor.py:34\u001b[0m, in \u001b[0;36mTensorMixin.__xor__\u001b[0;34m(self, other)\u001b[0m\n\u001b[1;32m     32\u001b[0m     \u001b[38;5;28;01mreturn\u001b[39;00m \u001b[38;5;28mself\u001b[39m\u001b[38;5;241m.\u001b[39mtensorpower(other)\n\u001b[1;32m     33\u001b[0m \u001b[38;5;28;01melse\u001b[39;00m:\n\u001b[0;32m---> 34\u001b[0m     \u001b[38;5;28;01mreturn\u001b[39;00m \u001b[38;5;28;43mself\u001b[39;49m\u001b[38;5;241;43m.\u001b[39;49m\u001b[43mtensor\u001b[49m\u001b[43m(\u001b[49m\u001b[43mother\u001b[49m\u001b[43m)\u001b[49m\n",
      "File \u001b[0;32m~/opt/anaconda3/envs/pymetal23/lib/python3.9/site-packages/qiskit/opflow/primitive_ops/pauli_op.py:115\u001b[0m, in \u001b[0;36mPauliOp.tensor\u001b[0;34m(self, other)\u001b[0m\n\u001b[1;32m    112\u001b[0m \u001b[38;5;28;01mif\u001b[39;00m \u001b[38;5;28misinstance\u001b[39m(other, CircuitOp):\n\u001b[1;32m    113\u001b[0m     \u001b[38;5;28;01mreturn\u001b[39;00m \u001b[38;5;28mself\u001b[39m\u001b[38;5;241m.\u001b[39mto_circuit_op()\u001b[38;5;241m.\u001b[39mtensor(other)\n\u001b[0;32m--> 115\u001b[0m \u001b[38;5;28;01mreturn\u001b[39;00m \u001b[43mTensoredOp\u001b[49m\u001b[43m(\u001b[49m\u001b[43m[\u001b[49m\u001b[38;5;28;43mself\u001b[39;49m\u001b[43m,\u001b[49m\u001b[43m \u001b[49m\u001b[43mother\u001b[49m\u001b[43m]\u001b[49m\u001b[43m)\u001b[49m\n",
      "File \u001b[0;32m~/opt/anaconda3/envs/pymetal23/lib/python3.9/site-packages/qiskit/opflow/list_ops/tensored_op.py:46\u001b[0m, in \u001b[0;36mTensoredOp.__init__\u001b[0;34m(self, oplist, coeff, abelian)\u001b[0m\n\u001b[1;32m     34\u001b[0m \u001b[38;5;28;01mdef\u001b[39;00m \u001b[38;5;21m__init__\u001b[39m(\n\u001b[1;32m     35\u001b[0m     \u001b[38;5;28mself\u001b[39m,\n\u001b[1;32m     36\u001b[0m     oplist: List[OperatorBase],\n\u001b[1;32m     37\u001b[0m     coeff: Union[\u001b[38;5;28mcomplex\u001b[39m, ParameterExpression] \u001b[38;5;241m=\u001b[39m \u001b[38;5;241m1.0\u001b[39m,\n\u001b[1;32m     38\u001b[0m     abelian: \u001b[38;5;28mbool\u001b[39m \u001b[38;5;241m=\u001b[39m \u001b[38;5;28;01mFalse\u001b[39;00m,\n\u001b[1;32m     39\u001b[0m ) \u001b[38;5;241m-\u001b[39m\u001b[38;5;241m>\u001b[39m \u001b[38;5;28;01mNone\u001b[39;00m:\n\u001b[1;32m     40\u001b[0m     \u001b[38;5;124;03m\"\"\"\u001b[39;00m\n\u001b[1;32m     41\u001b[0m \u001b[38;5;124;03m    Args:\u001b[39;00m\n\u001b[1;32m     42\u001b[0m \u001b[38;5;124;03m        oplist: The Operators being tensored.\u001b[39;00m\n\u001b[1;32m     43\u001b[0m \u001b[38;5;124;03m        coeff: A coefficient multiplying the operator\u001b[39;00m\n\u001b[1;32m     44\u001b[0m \u001b[38;5;124;03m        abelian: Indicates whether the Operators in ``oplist`` are known to mutually commute.\u001b[39;00m\n\u001b[1;32m     45\u001b[0m \u001b[38;5;124;03m    \"\"\"\u001b[39;00m\n\u001b[0;32m---> 46\u001b[0m     \u001b[38;5;28;43msuper\u001b[39;49m\u001b[43m(\u001b[49m\u001b[43m)\u001b[49m\u001b[38;5;241;43m.\u001b[39;49m\u001b[38;5;21;43m__init__\u001b[39;49m\u001b[43m(\u001b[49m\u001b[43moplist\u001b[49m\u001b[43m,\u001b[49m\u001b[43m \u001b[49m\u001b[43mcombo_fn\u001b[49m\u001b[38;5;241;43m=\u001b[39;49m\u001b[43mpartial\u001b[49m\u001b[43m(\u001b[49m\u001b[43mreduce\u001b[49m\u001b[43m,\u001b[49m\u001b[43m \u001b[49m\u001b[43mnp\u001b[49m\u001b[38;5;241;43m.\u001b[39;49m\u001b[43mkron\u001b[49m\u001b[43m)\u001b[49m\u001b[43m,\u001b[49m\u001b[43m \u001b[49m\u001b[43mcoeff\u001b[49m\u001b[38;5;241;43m=\u001b[39;49m\u001b[43mcoeff\u001b[49m\u001b[43m,\u001b[49m\u001b[43m \u001b[49m\u001b[43mabelian\u001b[49m\u001b[38;5;241;43m=\u001b[39;49m\u001b[43mabelian\u001b[49m\u001b[43m)\u001b[49m\n",
      "File \u001b[0;32m~/opt/anaconda3/envs/pymetal23/lib/python3.9/site-packages/qiskit/opflow/list_ops/list_op.py:77\u001b[0m, in \u001b[0;36mListOp.__init__\u001b[0;34m(self, oplist, combo_fn, coeff, abelian, grad_combo_fn)\u001b[0m\n\u001b[1;32m     64\u001b[0m \u001b[38;5;124;03m\"\"\"\u001b[39;00m\n\u001b[1;32m     65\u001b[0m \u001b[38;5;124;03mArgs:\u001b[39;00m\n\u001b[1;32m     66\u001b[0m \u001b[38;5;124;03m    oplist: The list of ``OperatorBases`` defining this Operator's underlying function.\u001b[39;00m\n\u001b[0;32m   (...)\u001b[0m\n\u001b[1;32m     74\u001b[0m \u001b[38;5;124;03m    identity - it accepts the list of values, and returns them in a list.\u001b[39;00m\n\u001b[1;32m     75\u001b[0m \u001b[38;5;124;03m\"\"\"\u001b[39;00m\n\u001b[1;32m     76\u001b[0m \u001b[38;5;28msuper\u001b[39m()\u001b[38;5;241m.\u001b[39m\u001b[38;5;21m__init__\u001b[39m()\n\u001b[0;32m---> 77\u001b[0m \u001b[38;5;28mself\u001b[39m\u001b[38;5;241m.\u001b[39m_oplist \u001b[38;5;241m=\u001b[39m \u001b[38;5;28;43mself\u001b[39;49m\u001b[38;5;241;43m.\u001b[39;49m\u001b[43m_check_input_types\u001b[49m\u001b[43m(\u001b[49m\u001b[43moplist\u001b[49m\u001b[43m)\u001b[49m\n\u001b[1;32m     78\u001b[0m \u001b[38;5;28mself\u001b[39m\u001b[38;5;241m.\u001b[39m_combo_fn \u001b[38;5;241m=\u001b[39m combo_fn\n\u001b[1;32m     79\u001b[0m \u001b[38;5;28mself\u001b[39m\u001b[38;5;241m.\u001b[39m_coeff \u001b[38;5;241m=\u001b[39m coeff\n",
      "File \u001b[0;32m~/opt/anaconda3/envs/pymetal23/lib/python3.9/site-packages/qiskit/opflow/list_ops/list_op.py:88\u001b[0m, in \u001b[0;36mListOp._check_input_types\u001b[0;34m(self, oplist)\u001b[0m\n\u001b[1;32m     86\u001b[0m \u001b[38;5;28;01melse\u001b[39;00m:\n\u001b[1;32m     87\u001b[0m     badval \u001b[38;5;241m=\u001b[39m \u001b[38;5;28mnext\u001b[39m(x \u001b[38;5;28;01mfor\u001b[39;00m x \u001b[38;5;129;01min\u001b[39;00m oplist \u001b[38;5;28;01mif\u001b[39;00m \u001b[38;5;129;01mnot\u001b[39;00m \u001b[38;5;28misinstance\u001b[39m(x, OperatorBase))\n\u001b[0;32m---> 88\u001b[0m     \u001b[38;5;28;01mraise\u001b[39;00m \u001b[38;5;167;01mTypeError\u001b[39;00m(\u001b[38;5;124mf\u001b[39m\u001b[38;5;124m\"\u001b[39m\u001b[38;5;124mListOp expecting objects of type OperatorBase, got \u001b[39m\u001b[38;5;132;01m{\u001b[39;00mbadval\u001b[38;5;132;01m}\u001b[39;00m\u001b[38;5;124m\"\u001b[39m)\n",
      "\u001b[0;31mTypeError\u001b[0m: ListOp expecting objects of type OperatorBase, got tensor([[-1.0632],\n        [-0.1325],\n        [-1.0873],\n        [-0.3375],\n        [-1.5933],\n        [ 0.1487],\n        [ 0.0802],\n        [ 0.3893],\n        [-1.4519],\n        [-0.1113],\n        [-1.3306],\n        [ 0.0452],\n        [ 1.1772],\n        [-0.9517],\n        [-0.4889],\n        [ 0.9313],\n        [-1.8404],\n        [-0.3494],\n        [-1.0349],\n        [ 0.8491],\n        [ 0.5632],\n        [ 0.1069],\n        [ 1.7319],\n        [-0.7073],\n        [-0.2570],\n        [ 0.2356],\n        [-1.1561],\n        [ 0.7830],\n        [-0.8123],\n        [ 3.9819],\n        [-0.3706],\n        [ 0.6667],\n        [-0.5061],\n        [-2.3843],\n        [-0.6492],\n        [ 0.8035],\n        [ 0.6760],\n        [ 1.0593],\n        [ 0.4644],\n        [-0.6050],\n        [-0.7893],\n        [ 0.9787],\n        [-0.2578],\n        [-0.0925],\n        [ 0.0576],\n        [-0.9215],\n        [-0.3690],\n        [-0.1237],\n        [-1.8863],\n        [ 1.9841],\n        [-0.3370],\n        [-0.2704],\n        [ 0.3447],\n        [-0.0251],\n        [-0.2060],\n        [ 0.8895],\n        [ 0.8894],\n        [-0.4283],\n        [-0.1905],\n        [ 0.6588],\n        [ 0.4020],\n        [ 0.2028],\n        [-0.2151],\n        [-0.0351],\n        [ 2.1895],\n        [ 0.3861],\n        [-1.3320],\n        [ 0.5717],\n        [ 2.1532],\n        [-1.0302],\n        [ 2.1732],\n        [ 0.9812],\n        [-1.3283],\n        [-0.2630],\n        [ 0.4189],\n        [-1.9842],\n        [ 1.1397],\n        [-0.4855],\n        [-1.0943],\n        [ 0.8781],\n        [ 0.2532],\n        [ 0.0102],\n        [ 1.3152],\n        [ 0.5950],\n        [-2.6090],\n        [ 1.9501],\n        [-0.6954],\n        [ 1.5803],\n        [-0.4227],\n        [-0.6619],\n        [ 1.1841],\n        [ 0.6000],\n        [-0.7969],\n        [-1.0811],\n        [-0.3907],\n        [ 0.8414],\n        [ 0.7746],\n        [ 1.0806],\n        [-2.7393],\n        [ 1.6660]])"
     ]
    }
   ],
   "source": [
    "obse_term(5,1,1)"
   ]
  },
  {
   "cell_type": "code",
   "execution_count": 28,
   "id": "c910844a",
   "metadata": {},
   "outputs": [
    {
     "name": "stdout",
     "output_type": "stream",
     "text": [
      "None\n",
      "----------\n",
      "learned A = -0.06864257156848907\n",
      "learned b = 0.9035919308662415\n",
      "None\n",
      "----------\n",
      "learned A = -0.018669694662094116\n",
      "learned b = 0.9535813927650452\n",
      "None\n",
      "----------\n",
      "learned A = 0.03125731647014618\n",
      "learned b = 1.0035531520843506\n",
      "None\n",
      "----------\n",
      "learned A = 0.08111926913261414\n",
      "learned b = 1.0535000562667847\n",
      "None\n",
      "----------\n",
      "learned A = 0.13089653849601746\n",
      "learned b = 1.1034150123596191\n",
      "None\n",
      "----------\n",
      "learned A = 0.1805691123008728\n",
      "learned b = 1.1532907485961914\n",
      "None\n",
      "----------\n",
      "learned A = 0.23011666536331177\n",
      "learned b = 1.2031199932098389\n",
      "None\n",
      "----------\n",
      "learned A = 0.2795185446739197\n",
      "learned b = 1.252895712852478\n",
      "None\n",
      "----------\n",
      "learned A = 0.32875388860702515\n",
      "learned b = 1.3026106357574463\n",
      "None\n",
      "----------\n",
      "learned A = 0.3778015971183777\n",
      "learned b = 1.3522577285766602\n"
     ]
    }
   ],
   "source": [
    "import torch\n",
    "import torch.nn as nn\n",
    "import torch.optim as optim\n",
    "from torch.autograd import Variable\n",
    "\n",
    "A = 2.4785692\n",
    "b = 7.3256987\n",
    "error = 0.1\n",
    "N = 100 # number of data points\n",
    "\n",
    "# Data\n",
    "X = Variable(torch.randn(N, 1))\n",
    "\n",
    "# (noisy) Target values that we want to learn.\n",
    "t = A * X + b + Variable(torch.randn(N, 1) * error)\n",
    "\n",
    "# Creating a model, making the optimizer, defining loss\n",
    "model = nn.Linear(1, 1)\n",
    "optimizer = optim.Adam(model.parameters(), lr=0.05)\n",
    "loss_fn = nn.MSELoss()\n",
    "\n",
    "# Run training\n",
    "niter = 10\n",
    "for _ in range(0, niter):\n",
    "    optimizer.zero_grad()\n",
    "    predictions = model(X)\n",
    "    loss = loss_fn(predictions, t)\n",
    "    loss.backward()\n",
    "    print(optimizer.step())\n",
    "    print()\n",
    "\n",
    "    print(\"-\" * 10)\n",
    "    print(\"learned A = {}\".format(list(model.parameters())[0].data[0, 0]))\n",
    "    print(\"learned b = {}\".format(list(model.parameters())[1].data[0]))"
   ]
  },
  {
   "cell_type": "code",
   "execution_count": 31,
   "id": "a79b1bd9",
   "metadata": {},
   "outputs": [
    {
     "ename": "TypeError",
     "evalue": "random() got an unexpected keyword argument 'requires_grad'",
     "output_type": "error",
     "traceback": [
      "\u001b[0;31m---------------------------------------------------------------------------\u001b[0m",
      "\u001b[0;31mTypeError\u001b[0m                                 Traceback (most recent call last)",
      "Input \u001b[0;32mIn [31]\u001b[0m, in \u001b[0;36m<module>\u001b[0;34m\u001b[0m\n\u001b[1;32m      1\u001b[0m n_qubit\u001b[38;5;241m=\u001b[39m\u001b[38;5;241m5\u001b[39m\n\u001b[0;32m----> 2\u001b[0m init_params\u001b[38;5;241m=\u001b[39m\u001b[43mnp\u001b[49m\u001b[38;5;241;43m.\u001b[39;49m\u001b[43mrandom\u001b[49m\u001b[38;5;241;43m.\u001b[39;49m\u001b[43mrandom\u001b[49m\u001b[43m(\u001b[49m\u001b[43mrequires_grad\u001b[49m\u001b[38;5;241;43m=\u001b[39;49m\u001b[38;5;28;43;01mTrue\u001b[39;49;00m\u001b[43m)\u001b[49m\n",
      "File \u001b[0;32mmtrand.pyx:427\u001b[0m, in \u001b[0;36mnumpy.random.mtrand.RandomState.random\u001b[0;34m()\u001b[0m\n",
      "\u001b[0;31mTypeError\u001b[0m: random() got an unexpected keyword argument 'requires_grad'"
     ]
    }
   ],
   "source": [
    "n_qubit=5\n",
    "init_params=np.random.random(requires_grad=True)"
   ]
  },
  {
   "cell_type": "code",
   "execution_count": 56,
   "id": "3eeb4899",
   "metadata": {},
   "outputs": [],
   "source": [
    "def obs_term(n_qubit, idx, typ):\n",
    "    op = I\n",
    "    if typ == 1:\n",
    "        op = X\n",
    "    elif typ == 2:\n",
    "        op = Y\n",
    "    elif typ == 3:\n",
    "        op = Z\n",
    "    if idx != 0:\n",
    "        ret = I\n",
    "    else:\n",
    "        ret = op\n",
    "    for i in range(idx-1):\n",
    "        ret = ret^I\n",
    "    if idx != 0:\n",
    "        ret = ret^op\n",
    "    for i in range(n_qubit-idx-1):\n",
    "        ret = ret^I\n",
    "    \n",
    "    return ret\n"
   ]
  },
  {
   "cell_type": "code",
   "execution_count": 57,
   "id": "2d99539f",
   "metadata": {},
   "outputs": [
    {
     "data": {
      "text/plain": [
       "PauliOp(Pauli('IIIII'), coeff=1.0)"
      ]
     },
     "execution_count": 57,
     "metadata": {},
     "output_type": "execute_result"
    }
   ],
   "source": [
    "obs_term(5,0,0)"
   ]
  },
  {
   "cell_type": "code",
   "execution_count": 44,
   "id": "ed7b9049",
   "metadata": {},
   "outputs": [],
   "source": [
    "from qiskit.opflow import (StateFn, Zero, One, Plus, Minus, H, I, X, Y, Z,\n",
    "                           DictStateFn, VectorStateFn, CircuitStateFn, OperatorStateFn)"
   ]
  },
  {
   "cell_type": "code",
   "execution_count": 55,
   "id": "0d40e2c0",
   "metadata": {},
   "outputs": [
    {
     "ename": "NameError",
     "evalue": "name 'PauliOp' is not defined",
     "output_type": "error",
     "traceback": [
      "\u001b[0;31m---------------------------------------------------------------------------\u001b[0m",
      "\u001b[0;31mNameError\u001b[0m                                 Traceback (most recent call last)",
      "Input \u001b[0;32mIn [55]\u001b[0m, in \u001b[0;36m<module>\u001b[0;34m\u001b[0m\n\u001b[0;32m----> 1\u001b[0m \u001b[43mPauliOp\u001b[49m(Pauli(\u001b[38;5;124m'\u001b[39m\u001b[38;5;124m'\u001b[39m),coeff\u001b[38;5;241m=\u001b[39m\u001b[38;5;241m1.0\u001b[39m)\n",
      "\u001b[0;31mNameError\u001b[0m: name 'PauliOp' is not defined"
     ]
    }
   ],
   "source": [
    "PauliOp(Pauli(''),coeff=1.0)"
   ]
  },
  {
   "cell_type": "code",
   "execution_count": 186,
   "id": "38aaacec",
   "metadata": {},
   "outputs": [],
   "source": [
    "import torch\n",
    "import pennylane as qml\n",
    "\n",
    "dev = qml.device('default.qubit', wires=2)\n",
    "\n",
    "@qml.qnode(dev, interface='torch')\n",
    "def circuit4(phi, theta):\n",
    "    qml.RX(phi[0], wires=0)\n",
    "    qml.RZ(phi[1], wires=1)\n",
    "    qml.CNOT(wires=[0, 1])\n",
    "    qml.RX(theta, wires=0)\n",
    "    return qml.expval(qml.PauliZ(0))\n",
    "\n",
    "def cost(phi, theta):\n",
    "    return torch.abs(circuit4(phi, theta) - 0.5)**2\n",
    "\n",
    "phi = torch.tensor([0.011, 0.012], requires_grad=True)\n",
    "theta = torch.tensor(0.05, requires_grad=True)\n",
    "\n",
    "opt = torch.optim.Adam([phi, theta], lr = 0.1)\n",
    "\n",
    "steps = 200\n",
    "\n",
    "def closure():\n",
    "    opt.zero_grad()\n",
    "    loss = cost(phi, theta)\n",
    "    loss.backward()\n",
    "    return loss\n",
    "\n",
    "for i in range(steps):\n",
    "    opt.step(closure)"
   ]
  },
  {
   "cell_type": "code",
   "execution_count": 180,
   "id": "b2d49305",
   "metadata": {},
   "outputs": [],
   "source": [
    "init_params=torch.rand(n_qubit*4, requires_grad = True)"
   ]
  },
  {
   "cell_type": "code",
   "execution_count": 182,
   "id": "ca9f99fe",
   "metadata": {},
   "outputs": [
    {
     "data": {
      "text/plain": [
       "True"
      ]
     },
     "execution_count": 182,
     "metadata": {},
     "output_type": "execute_result"
    }
   ],
   "source": [
    "init_params[1].requires_grad"
   ]
  },
  {
   "cell_type": "code",
   "execution_count": 185,
   "id": "ffe5e1b4",
   "metadata": {},
   "outputs": [
    {
     "data": {
      "text/plain": [
       "tensor(16)"
      ]
     },
     "execution_count": 185,
     "metadata": {},
     "output_type": "execute_result"
    }
   ],
   "source": [
    "torch.abs(torch.tensor(4))**2"
   ]
  },
  {
   "cell_type": "code",
   "execution_count": null,
   "id": "3276f111",
   "metadata": {},
   "outputs": [],
   "source": []
  }
 ],
 "metadata": {
  "kernelspec": {
   "display_name": "metal_practice",
   "language": "python",
   "name": "metal_practice"
  },
  "language_info": {
   "codemirror_mode": {
    "name": "ipython",
    "version": 3
   },
   "file_extension": ".py",
   "mimetype": "text/x-python",
   "name": "python",
   "nbconvert_exporter": "python",
   "pygments_lexer": "ipython3",
   "version": "3.9.10"
  }
 },
 "nbformat": 4,
 "nbformat_minor": 5
}
