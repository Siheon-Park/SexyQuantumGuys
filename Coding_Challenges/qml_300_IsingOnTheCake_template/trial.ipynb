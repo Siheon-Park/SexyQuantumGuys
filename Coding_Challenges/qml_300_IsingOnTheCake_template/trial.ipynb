{
 "cells": [
  {
   "cell_type": "code",
   "execution_count": 1,
   "metadata": {},
   "outputs": [],
   "source": [
    "import sys\n",
    "import pennylane as qml\n",
    "from pennylane import numpy as np\n",
    "import pennylane.optimize as optimize"
   ]
  },
  {
   "cell_type": "code",
   "execution_count": 33,
   "metadata": {},
   "outputs": [],
   "source": [
    "f=open('1.in','r')"
   ]
  },
  {
   "cell_type": "code",
   "execution_count": 34,
   "metadata": {},
   "outputs": [],
   "source": [
    "DATA_SIZE = 250\n",
    "inputs=f.read().split(\",\")"
   ]
  },
  {
   "cell_type": "code",
   "execution_count": 35,
   "metadata": {},
   "outputs": [],
   "source": [
    "inputs=np.array(inputs, dtype=int)"
   ]
  },
  {
   "cell_type": "code",
   "execution_count": 36,
   "metadata": {},
   "outputs": [],
   "source": [
    "inputs.requires_grad=False"
   ]
  },
  {
   "cell_type": "code",
   "execution_count": 37,
   "metadata": {},
   "outputs": [],
   "source": [
    "inputs=inputs.reshape(DATA_SIZE, -1)"
   ]
  },
  {
   "cell_type": "code",
   "execution_count": 38,
   "metadata": {},
   "outputs": [
    {
     "data": {
      "text/plain": [
       "(250, 5)"
      ]
     },
     "execution_count": 38,
     "metadata": {},
     "output_type": "execute_result"
    }
   ],
   "source": [
    "inputs.shape"
   ]
  },
  {
   "cell_type": "code",
   "execution_count": 39,
   "metadata": {},
   "outputs": [],
   "source": [
    "ising_configs = inputs[:, :-1]\n",
    "labels = inputs[:, -1]"
   ]
  },
  {
   "cell_type": "code",
   "execution_count": 57,
   "metadata": {},
   "outputs": [
    {
     "data": {
      "text/plain": [
       "tensor([59, 76, 95, 21, 14, 32, 20, 54,  5, 54], requires_grad=True)"
      ]
     },
     "execution_count": 57,
     "metadata": {},
     "output_type": "execute_result"
    }
   ],
   "source": [
    "np.random.randint(100,)"
   ]
  },
  {
   "cell_type": "code",
   "execution_count": 45,
   "metadata": {},
   "outputs": [
    {
     "data": {
      "text/plain": [
       "tensor([-1,  1, -1,  1, -1, -1, -1, -1,  1,  1, -1, -1, -1,  1,  1, -1,\n",
       "         1,  1,  1, -1, -1,  1, -1, -1, -1, -1, -1,  1, -1, -1,  1, -1,\n",
       "         1, -1, -1,  1,  1,  1,  1, -1,  1, -1,  1, -1, -1,  1, -1,  1,\n",
       "        -1,  1,  1, -1,  1, -1,  1, -1, -1,  1, -1,  1, -1,  1, -1,  1,\n",
       "         1,  1, -1, -1,  1,  1,  1,  1,  1,  1,  1, -1,  1, -1,  1,  1,\n",
       "         1,  1, -1,  1,  1, -1, -1, -1, -1,  1, -1,  1,  1, -1,  1,  1,\n",
       "         1,  1,  1, -1,  1, -1,  1, -1, -1, -1,  1, -1, -1,  1,  1,  1,\n",
       "        -1,  1,  1,  1, -1, -1, -1,  1,  1,  1, -1,  1, -1, -1,  1,  1,\n",
       "        -1, -1,  1,  1,  1, -1,  1,  1, -1,  1,  1,  1, -1, -1,  1, -1,\n",
       "         1,  1,  1,  1, -1,  1, -1,  1, -1,  1,  1,  1, -1,  1, -1, -1,\n",
       "        -1, -1, -1,  1,  1, -1,  1,  1,  1, -1,  1, -1, -1, -1,  1, -1,\n",
       "         1, -1,  1,  1,  1,  1,  1,  1, -1,  1, -1, -1,  1, -1, -1, -1,\n",
       "        -1, -1,  1, -1, -1,  1,  1,  1, -1, -1,  1, -1, -1, -1,  1,  1,\n",
       "        -1,  1, -1, -1, -1,  1, -1,  1,  1, -1, -1,  1, -1, -1, -1, -1,\n",
       "        -1,  1,  1, -1,  1, -1, -1,  1, -1, -1, -1, -1, -1,  1, -1,  1,\n",
       "        -1, -1,  1, -1, -1, -1,  1,  1,  1, -1], requires_grad=False)"
      ]
     },
     "execution_count": 45,
     "metadata": {},
     "output_type": "execute_result"
    }
   ],
   "source": [
    "labels"
   ]
  },
  {
   "cell_type": "code",
   "execution_count": 60,
   "metadata": {},
   "outputs": [
    {
     "data": {
      "text/plain": [
       "tensor([[ 0,  0,  1,  0, -1],\n",
       "        [ 0,  0,  0,  0,  1],\n",
       "        [ 0,  0,  1,  0, -1],\n",
       "        [ 0,  0,  0,  0,  1],\n",
       "        [ 0,  0,  0,  0, -1],\n",
       "        [ 1,  1,  0,  1, -1],\n",
       "        [ 0,  0,  1,  0, -1],\n",
       "        [ 1,  0,  0,  1, -1],\n",
       "        [ 0,  0,  0,  0,  1],\n",
       "        [ 1,  1,  1,  1,  1],\n",
       "        [ 1,  0,  1,  0, -1],\n",
       "        [ 0,  1,  0,  1, -1],\n",
       "        [ 1,  0,  0,  1, -1],\n",
       "        [ 0,  0,  0,  0,  1],\n",
       "        [ 1,  1,  1,  1,  1],\n",
       "        [ 0,  0,  0,  0, -1],\n",
       "        [ 0,  0,  0,  0,  1],\n",
       "        [ 1,  1,  1,  1,  1],\n",
       "        [ 1,  1,  1,  1,  1],\n",
       "        [ 0,  1,  0,  0, -1]], requires_grad=False)"
      ]
     },
     "execution_count": 60,
     "metadata": {},
     "output_type": "execute_result"
    }
   ],
   "source": [
    "inputs[:20]"
   ]
  },
  {
   "cell_type": "code",
   "execution_count": null,
   "metadata": {},
   "outputs": [],
   "source": []
  }
 ],
 "metadata": {
  "interpreter": {
   "hash": "8d590842facef9a358f694449706aff506337bf1a4b02094de7950eec2b9ea62"
  },
  "kernelspec": {
   "display_name": "Python 3.7.11 ('pennylane': conda)",
   "language": "python",
   "name": "python3"
  },
  "language_info": {
   "codemirror_mode": {
    "name": "ipython",
    "version": 3
   },
   "file_extension": ".py",
   "mimetype": "text/x-python",
   "name": "python",
   "nbconvert_exporter": "python",
   "pygments_lexer": "ipython3",
   "version": "3.7.11"
  },
  "orig_nbformat": 4
 },
 "nbformat": 4,
 "nbformat_minor": 2
}
