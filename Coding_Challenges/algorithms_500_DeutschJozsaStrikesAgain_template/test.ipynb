{
 "cells": [
  {
   "cell_type": "code",
   "execution_count": 1,
   "metadata": {},
   "outputs": [],
   "source": [
    "import sys\n",
    "from pennylane import numpy as np\n",
    "import pennylane as qml"
   ]
  },
  {
   "cell_type": "code",
   "execution_count": 2,
   "metadata": {},
   "outputs": [],
   "source": [
    "numbers=[0,0,0,1,1,0,1,1]\n",
    "\n",
    "def f1(wires):\n",
    "    qml.CNOT(wires=[wires[numbers[0]], wires[2]])\n",
    "    qml.CNOT(wires=[wires[numbers[1]], wires[2]])\n",
    "\n",
    "def f2(wires):\n",
    "    qml.CNOT(wires=[wires[numbers[2]], wires[2]])\n",
    "    qml.CNOT(wires=[wires[numbers[3]], wires[2]])\n",
    "\n",
    "def f3(wires):\n",
    "    qml.CNOT(wires=[wires[numbers[4]], wires[2]])\n",
    "    qml.CNOT(wires=[wires[numbers[5]], wires[2]])\n",
    "    qml.PauliX(wires=wires[2])\n",
    "\n",
    "def f4(wires):\n",
    "    qml.CNOT(wires=[wires[numbers[6]], wires[2]])\n",
    "    qml.CNOT(wires=[wires[numbers[7]], wires[2]])\n",
    "    qml.PauliX(wires=wires[2])\n",
    "\n",
    "fs = [f1, f2, f3, f4]"
   ]
  },
  {
   "cell_type": "code",
   "execution_count": 3,
   "metadata": {},
   "outputs": [],
   "source": [
    "dev1 = qml.device('default.qubit', wires=5, shots=1)\n",
    "dev2 = qml.device('default.qubit', wires=3, shots=1)\n",
    "\n",
    "\n",
    "@qml.qnode(dev1)\n",
    "def ctrl_version_DJ(index):\n",
    "    qml.PauliX(wires=4)\n",
    "    [qml.Hadamard(wires=w) for w in range(2, 5)]\n",
    "\n",
    "    qml.BasisStatePreparation(list(map(int, np.binary_repr(index, width=2))), wires=range(2))\n",
    "    def temp():\n",
    "        fs[index](wires=range(2, 5))\n",
    "    qml.ctrl(temp, control=range(2))()\n",
    "    qml.BasisStatePreparation(list(map(int, np.binary_repr(index, width=2))), wires=range(2))\n",
    "\n",
    "    [qml.Hadamard(wires=w) for w in range(2, 4)]\n",
    "    return qml.sample(wires=range(2, 4))\n",
    "\n",
    "@qml.qnode(dev2)\n",
    "def orig_version_DJ(index):\n",
    "    qml.PauliX(wires=2)\n",
    "    [qml.Hadamard(wires=w) for w in range(3)]\n",
    "\n",
    "    def temp():\n",
    "        fs[index](wires=range(3))\n",
    "    temp()\n",
    "\n",
    "    [qml.Hadamard(wires=w) for w in range(2)]\n",
    "    return qml.sample(wires=range(2))\n",
    "\n"
   ]
  },
  {
   "cell_type": "code",
   "execution_count": 4,
   "metadata": {},
   "outputs": [],
   "source": [
    "\n",
    "def checker(sample):\n",
    "    for s in sample:\n",
    "        if s==1:\n",
    "            return 'balanced'\n",
    "    return 'constant'\n"
   ]
  },
  {
   "cell_type": "code",
   "execution_count": 5,
   "metadata": {},
   "outputs": [
    {
     "name": "stdout",
     "output_type": "stream",
     "text": [
      "[0 0]\n",
      "[0 0]\n",
      "\n",
      "[0 0]\n",
      "[1 1]\n",
      "\n",
      "[0 0]\n",
      "[1 1]\n",
      "\n",
      "[0 0]\n",
      "[0 0]\n",
      "\n"
     ]
    }
   ],
   "source": [
    "for index in range(4):\n",
    "    print((ctrl_version_DJ(index)))\n",
    "    print((orig_version_DJ(index)))\n",
    "    print()"
   ]
  },
  {
   "cell_type": "code",
   "execution_count": null,
   "metadata": {},
   "outputs": [],
   "source": []
  },
  {
   "cell_type": "code",
   "execution_count": null,
   "metadata": {},
   "outputs": [],
   "source": []
  }
 ],
 "metadata": {
  "interpreter": {
   "hash": "7000848d4a47cf631f9a1ad7c3ea99fde39bf1919ddf7eca581b8bd47d53a1b3"
  },
  "kernelspec": {
   "display_name": "Python 3.9.7 ('qhack')",
   "language": "python",
   "name": "python3"
  },
  "language_info": {
   "codemirror_mode": {
    "name": "ipython",
    "version": 3
   },
   "file_extension": ".py",
   "mimetype": "text/x-python",
   "name": "python",
   "nbconvert_exporter": "python",
   "pygments_lexer": "ipython3",
   "version": "3.9.7"
  },
  "orig_nbformat": 4
 },
 "nbformat": 4,
 "nbformat_minor": 2
}
